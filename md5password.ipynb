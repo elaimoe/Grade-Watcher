{
 "cells": [
  {
   "metadata": {
    "ExecuteTime": {
     "end_time": "2024-12-10T14:01:11.172054Z",
     "start_time": "2024-12-10T14:01:11.154820Z"
    }
   },
   "cell_type": "code",
   "source": [
    "import hashlib\n",
    "\n",
    "def md5_min_js(str_passwd, str_ver):\n",
    "    def md5_rotate_left(l_value, i_shift_bits):\n",
    "        return (l_value << i_shift_bits) | (l_value >> (32 - i_shift_bits))\n",
    "\n",
    "    def md5_add_unsigned(l_x, l_y):\n",
    "        l_x4 = l_x & 0x40000000\n",
    "        l_y4 = l_y & 0x40000000\n",
    "        l_x8 = l_x & 0x80000000\n",
    "        l_y8 = l_y & 0x80000000\n",
    "        l_result = (l_x & 0x3FFFFFFF) + (l_y & 0x3FFFFFFF)\n",
    "        if l_x4 & l_y4:\n",
    "            return l_result ^ 0x80000000 ^ l_x8 ^ l_y8\n",
    "        if l_x4 | l_y4:\n",
    "            if l_result & 0x40000000:\n",
    "                return l_result ^ 0xC0000000 ^ l_x8 ^ l_y8\n",
    "            else:\n",
    "                return l_result ^ 0x40000000 ^ l_x8 ^ l_y8\n",
    "        else:\n",
    "            return l_result ^ l_x8 ^ l_y8\n",
    "\n",
    "    def md5_f(x, y, z):\n",
    "        return (x & y) | (~x & z)\n",
    "\n",
    "    def md5_g(x, y, z):\n",
    "        return (x & z) | (y & ~z)\n",
    "\n",
    "    def md5_h(x, y, z):\n",
    "        return x ^ y ^ z\n",
    "\n",
    "    def md5_i(x, y, z):\n",
    "        return y ^ (x | ~z)\n",
    "\n",
    "    def md5_ff(a, b, c, d, x, s, ac):\n",
    "        a = md5_add_unsigned(a, md5_add_unsigned(md5_add_unsigned(md5_f(b, c, d), x), ac))\n",
    "        return md5_add_unsigned(md5_rotate_left(a, s), b)\n",
    "\n",
    "    def md5_gg(a, b, c, d, x, s, ac):\n",
    "        a = md5_add_unsigned(a, md5_add_unsigned(md5_add_unsigned(md5_g(b, c, d), x), ac))\n",
    "        return md5_add_unsigned(md5_rotate_left(a, s), b)\n",
    "\n",
    "    def md5_hh(a, b, c, d, x, s, ac):\n",
    "        a = md5_add_unsigned(a, md5_add_unsigned(md5_add_unsigned(md5_h(b, c, d), x), ac))\n",
    "        return md5_add_unsigned(md5_rotate_left(a, s), b)\n",
    "\n",
    "    def md5_ii(a, b, c, d, x, s, ac):\n",
    "        a = md5_add_unsigned(a, md5_add_unsigned(md5_add_unsigned(md5_i(b, c, d), x), ac))\n",
    "        return md5_add_unsigned(md5_rotate_left(a, s), b)\n",
    "\n",
    "    def md5_convert_to_word_array(string):\n",
    "        l_message_length = len(string)\n",
    "        l_number_of_words_temp1 = l_message_length + 8\n",
    "        l_number_of_words_temp2 = (l_number_of_words_temp1 - (l_number_of_words_temp1 % 64)) // 64\n",
    "        l_number_of_words = (l_number_of_words_temp2 + 1) * 16\n",
    "        l_word_array = [0] * l_number_of_words\n",
    "        l_byte_position = 0\n",
    "        l_byte_count = 0\n",
    "\n",
    "        while l_byte_count < l_message_length:\n",
    "            l_word_count = l_byte_count // 4\n",
    "            l_byte_position = (l_byte_count % 4) * 8\n",
    "            l_word_array[l_word_count] |= ord(string[l_byte_count]) << l_byte_position\n",
    "            l_byte_count += 1\n",
    "\n",
    "        l_word_count = l_byte_count // 4\n",
    "        l_byte_position = (l_byte_count % 4) * 8\n",
    "        l_word_array[l_word_count] |= 0x80 << l_byte_position\n",
    "        l_word_array[l_number_of_words - 2] = l_message_length << 3\n",
    "        l_word_array[l_number_of_words - 1] = l_message_length >> 29\n",
    "\n",
    "        return l_word_array\n",
    "\n",
    "    def md5_word_to_hex(l_value):\n",
    "        word_to_hex_value = \"\"\n",
    "        for l_count in range(4):\n",
    "            l_byte = (l_value >> (l_count * 8)) & 255\n",
    "            word_to_hex_value += f\"{l_byte:02x}\"\n",
    "        return word_to_hex_value\n",
    "\n",
    "    def md5_utf8_encode(string):\n",
    "        return string.encode('utf-8')\n",
    "\n",
    "    def hex_md5(string, ver):\n",
    "        S11, S12, S13, S14 = 7, 12, 17, 22\n",
    "        S21, S22, S23, S24 = 5, 9, 14, 20\n",
    "        S31, S32, S33, S34 = 4, 11, 16, 23\n",
    "        S41, S42, S43, S44 = 6, 10, 15, 21\n",
    "\n",
    "        string = md5_utf8_encode(string + (\"\" if ver == \"1.8\" else \"{Urp602019}\")).decode('utf-8')\n",
    "        x = md5_convert_to_word_array(string)\n",
    "        a, b, c, d = 0x67452301, 0xEFCDAB89, 0x98BADCFE, 0x10325476\n",
    "\n",
    "        for k in range(0, len(x), 16):\n",
    "            AA, BB, CC, DD = a, b, c, d\n",
    "\n",
    "            a = md5_ff(a, b, c, d, x[k + 0], S11, 0xD76AA478)\n",
    "            d = md5_ff(d, a, b, c, x[k + 1], S12, 0xE8C7B756)\n",
    "            c = md5_ff(c, d, a, b, x[k + 2], S13, 0x242070DB)\n",
    "            b = md5_ff(b, c, d, a, x[k + 3], S14, 0xC1BDCEEE)\n",
    "            a = md5_ff(a, b, c, d, x[k + 4], S11, 0xF57C0FAF)\n",
    "            d = md5_ff(d, a, b, c, x[k + 5], S12, 0x4787C62A)\n",
    "            c = md5_ff(c, d, a, b, x[k + 6], S13, 0xA8304613)\n",
    "            b = md5_ff(b, c, d, a, x[k + 7], S14, 0xFD469501)\n",
    "            a = md5_ff(a, b, c, d, x[k + 8], S11, 0x698098D8)\n",
    "            d = md5_ff(d, a, b, c, x[k + 9], S12, 0x8B44F7AF)\n",
    "            c = md5_ff(c, d, a, b, x[k + 10], S13, 0xFFFF5BB1)\n",
    "            b = md5_ff(b, c, d, a, x[k + 11], S14, 0x895CD7BE)\n",
    "            a = md5_ff(a, b, c, d, x[k + 12], S11, 0x6B901122)\n",
    "            d = md5_ff(d, a, b, c, x[k + 13], S12, 0xFD987193)\n",
    "            c = md5_ff(c, d, a, b, x[k + 14], S13, 0xA679438E)\n",
    "            b = md5_ff(b, c, d, a, x[k + 15], S14, 0x49B40821)\n",
    "\n",
    "            a = md5_gg(a, b, c, d, x[k + 1], S21, 0xF61E2562)\n",
    "            d = md5_gg(d, a, b, c, x[k + 6], S22, 0xC040B340)\n",
    "            c = md5_gg(c, d, a, b, x[k + 11], S23, 0x265E5A51)\n",
    "            b = md5_gg(b, c, d, a, x[k + 0], S24, 0xE9B6C7AA)\n",
    "            a = md5_gg(a, b, c, d, x[k + 5], S21, 0xD62F105D)\n",
    "            d = md5_gg(d, a, b, c, x[k + 10], S22, 0x2441453)\n",
    "            c = md5_gg(c, d, a, b, x[k + 15], S23, 0xD8A1E681)\n",
    "            b = md5_gg(b, c, d, a, x[k + 4], S24, 0xE7D3FBC8)\n",
    "            a = md5_gg(a, b, c, d, x[k + 9], S21, 0x21E1CDE6)\n",
    "            d = md5_gg(d, a, b, c, x[k + 14], S22, 0xC33707D6)\n",
    "            c = md5_gg(c, d, a, b, x[k + 3], S23, 0xF4D50D87)\n",
    "            b = md5_gg(b, c, d, a, x[k + 8], S24, 0x455A14ED)\n",
    "            a = md5_gg(a, b, c, d, x[k + 13], S21, 0xA9E3E905)\n",
    "            d = md5_gg(d, a, b, c, x[k + 2], S22, 0xFCEFA3F8)\n",
    "            c = md5_gg(c, d, a, b, x[k + 7], S23, 0x676F02D9)\n",
    "            b = md5_gg(b, c, d, a, x[k + 12], S24, 0x8D2A4C8A)\n",
    "\n",
    "            a = md5_hh(a, b, c, d, x[k + 5], S31, 0xFFFA3942)\n",
    "            d = md5_hh(d, a, b, c, x[k + 8], S32, 0x8771F681)\n",
    "            c = md5_hh(c, d, a, b, x[k + 11], S33, 0x6D9D6122)\n",
    "            b = md5_hh(b, c, d, a, x[k + 14], S34, 0xFDE5380C)\n",
    "            a = md5_hh(a, b, c, d, x[k + 1], S31, 0xA4BEEA44)\n",
    "            d = md5_hh(d, a, b, c, x[k + 4], S32, 0x4BDECFA9)\n",
    "            c = md5_hh(c, d, a, b, x[k + 7], S33, 0xF6BB4B60)\n",
    "            b = md5_hh(b, c, d, a, x[k + 10], S34, 0xBEBFBC70)\n",
    "            a = md5_hh(a, b, c, d, x[k + 13], S31, 0x289B7EC6)\n",
    "            d = md5_hh(d, a, b, c, x[k + 0], S32, 0xEAA127FA)\n",
    "            c = md5_hh(c, d, a, b, x[k + 3], S33, 0xD4EF3085)\n",
    "            b = md5_hh(b, c, d, a, x[k + 6], S34, 0x4881D05)\n",
    "            a = md5_hh(a, b, c, d, x[k + 9], S31, 0xD9D4D039)\n",
    "            d = md5_hh(d, a, b, c, x[k + 12], S32, 0xE6DB99E5)\n",
    "            c = md5_hh(c, d, a, b, x[k + 15], S33, 0x1FA27CF8)\n",
    "            b = md5_hh(b, c, d, a, x[k + 2], S34, 0xC4AC5665)\n",
    "\n",
    "            a = md5_ii(a, b, c, d, x[k + 0], S41, 0xF4292244)\n",
    "            d = md5_ii(d, a, b, c, x[k + 7], S42, 0x432AFF97)\n",
    "            c = md5_ii(c, d, a, b, x[k + 14], S43, 0xAB9423A7)\n",
    "            b = md5_ii(b, c, d, a, x[k + 5], S44, 0xFC93A039)\n",
    "            a = md5_ii(a, b, c, d, x[k + 12], S41, 0x655B59C3)\n",
    "            d = md5_ii(d, a, b, c, x[k + 3], S42, 0x8F0CCC92)\n",
    "            c = md5_ii(c, d, a, b, x[k + 10], S43, 0xFFEFF47D)\n",
    "            b = md5_ii(b, c, d, a, x[k + 1], S44, 0x85845DD1)\n",
    "            a = md5_ii(a, b, c, d, x[k + 8], S41, 0x6FA87E4F)\n",
    "            d = md5_ii(d, a, b, c, x[k + 15], S42, 0xFE2CE6E0)\n",
    "            c = md5_ii(c, d, a, b, x[k + 6], S43, 0xA3014314)\n",
    "            b = md5_ii(b, c, d, a, x[k + 13], S44, 0x4E0811A1)\n",
    "            a = md5_ii(a, b, c, d, x[k + 4], S41, 0xF7537E82)\n",
    "            d = md5_ii(d, a, b, c, x[k + 11], S42, 0xBD3AF235)\n",
    "            c = md5_ii(c, d, a, b, x[k + 2], S43, 0x2AD7D2BB)\n",
    "            b = md5_ii(b, c, d, a, x[k + 9], S44, 0xEB86D391)\n",
    "\n",
    "            a = md5_add_unsigned(a, AA)\n",
    "            b = md5_add_unsigned(b, BB)\n",
    "            c = md5_add_unsigned(c, CC)\n",
    "            d = md5_add_unsigned(d, DD)\n",
    "\n",
    "        return (md5_word_to_hex(a) + md5_word_to_hex(b) + md5_word_to_hex(c) + md5_word_to_hex(d)).lower()\n",
    "    # 如果 盐 = 1.8 那么正常处理，如果 盐 != 1.8 那么加上 {Urp602019}\n",
    "\n",
    "    return hex_md5(str_passwd, str_ver)\n",
    "password = '0'"
   ],
   "id": "cd3ba4243e3da21e",
   "outputs": [],
   "execution_count": 208
  },
  {
   "metadata": {
    "ExecuteTime": {
     "end_time": "2024-12-10T14:01:11.181390Z",
     "start_time": "2024-12-10T14:01:11.178063Z"
    }
   },
   "cell_type": "code",
   "source": "print(password)",
   "id": "2210faf7f704b960",
   "outputs": [
    {
     "name": "stdout",
     "output_type": "stream",
     "text": [
      "0\n"
     ]
    }
   ],
   "execution_count": 209
  },
  {
   "metadata": {
    "ExecuteTime": {
     "end_time": "2024-12-10T14:01:11.201132Z",
     "start_time": "2024-12-10T14:01:11.197667Z"
    }
   },
   "cell_type": "code",
   "source": "print(md5_min_js(password, ''))",
   "id": "385e8dafacee37f1",
   "outputs": [
    {
     "name": "stdout",
     "output_type": "stream",
     "text": [
      "c5d5c5f1fe3ec7f173578fcc50fb92ea\n"
     ]
    }
   ],
   "execution_count": 210
  },
  {
   "metadata": {
    "ExecuteTime": {
     "end_time": "2024-12-10T14:01:11.250614Z",
     "start_time": "2024-12-10T14:01:11.247174Z"
    }
   },
   "cell_type": "code",
   "source": "print(md5_min_js(password, '1.8'))",
   "id": "8ec05c7744e4d499",
   "outputs": [
    {
     "name": "stdout",
     "output_type": "stream",
     "text": [
      "cfcd208495d565ef66e7dff9f98764da\n"
     ]
    }
   ],
   "execution_count": 211
  },
  {
   "metadata": {
    "ExecuteTime": {
     "end_time": "2024-12-10T14:01:11.300617Z",
     "start_time": "2024-12-10T14:01:11.297242Z"
    }
   },
   "cell_type": "code",
   "source": "print(hashlib.md5(password.encode(\"utf-8\")).hexdigest())",
   "id": "63ac02e82971a03f",
   "outputs": [
    {
     "name": "stdout",
     "output_type": "stream",
     "text": [
      "cfcd208495d565ef66e7dff9f98764da\n"
     ]
    }
   ],
   "execution_count": 212
  },
  {
   "metadata": {
    "ExecuteTime": {
     "end_time": "2024-12-10T14:01:11.339592Z",
     "start_time": "2024-12-10T14:01:11.336146Z"
    }
   },
   "cell_type": "code",
   "source": "print(hashlib.md5((password+\"{Urp602019}\").encode(\"utf-8\")).hexdigest())",
   "id": "9a37180e4b8d2646",
   "outputs": [
    {
     "name": "stdout",
     "output_type": "stream",
     "text": [
      "c5d5c5f1fe3ec7f173578fcc50fb92ea\n"
     ]
    }
   ],
   "execution_count": 213
  }
 ],
 "metadata": {
  "kernelspec": {
   "name": "python3",
   "language": "python",
   "display_name": "Python 3 (ipykernel)"
  }
 },
 "nbformat": 5,
 "nbformat_minor": 9
}
